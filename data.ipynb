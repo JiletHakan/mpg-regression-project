{
 "cells": [
  {
   "cell_type": "code",
   "execution_count": 2,
   "metadata": {},
   "outputs": [
    {
     "name": "stdout",
     "output_type": "stream",
     "text": [
      "c:\\Users\\Hakan Bilgisayar\\Desktop\\pyt\\data\\venv\\Scripts\\python.exe\n"
     ]
    }
   ],
   "source": [
    "# Data manipulation and analysis\n",
    "import pandas as pd\n",
    "\n",
    "# Statistical data visualization\n",
    "import seaborn as sns\n",
    "\n",
    "# Numerical operations\n",
    "import numpy as np\n",
    "\n",
    "# Plotting and visualizations\n",
    "import matplotlib.pyplot as plt\n",
    "\n",
    "# Statistical functions and tests\n",
    "from scipy import stats\n",
    "\n",
    "# Specific functions for normal distribution and skewness\n",
    "from scipy.stats import norm, skew\n",
    "\n",
    "# Data scaling methods\n",
    "from sklearn.preprocessing import RobustScaler, StandardScaler\n",
    "\n",
    "# Regression models\n",
    "from sklearn.linear_model import LinearRegression, Ridge, Lasso, ElasticNet\n",
    "\n",
    "# Splitting data and hyperparameter tuning\n",
    "from sklearn.model_selection import train_test_split, GridSearchCV\n",
    "# Model evaluation metric\n",
    "from sklearn.metrics import mean_squared_error\n",
    "\n",
    "# Base classes for building custom transformers and models\n",
    "from sklearn.base import BaseEstimator, TransformerMixin, RegressorMixin, clone\n",
    "\n",
    "# Gradient boosting model for regression and classification\n",
    "import xgboost as xgb\n",
    "\n",
    "# To suppress warning messages\n",
    "import warnings\n",
    "warnings.filterwarnings('ignore')\n",
    "\n",
    "import sys\n",
    "print(sys.executable)\n"
   ]
  },
  {
   "cell_type": "code",
   "execution_count": 8,
   "metadata": {},
   "outputs": [],
   "source": [
    "column_name = [\"MPG\", \"Cylinders\", \"Displacement\", \"Horsepower\", \"Weight\", \"Acceleration\", \"Model Year\", \"Origin\"]\n",
    "data = pd.read_csv(\"auto-mpg.data\", names = column_name, na_values = \"?\", comment= \"\\t\", sep = \" \", skipinitialspace = True)"
   ]
  },
  {
   "cell_type": "code",
   "execution_count": 10,
   "metadata": {},
   "outputs": [],
   "source": [
    "data = data.rename(columns = {\"MPG\":\"target\"})"
   ]
  },
  {
   "cell_type": "code",
   "execution_count": 11,
   "metadata": {},
   "outputs": [
    {
     "name": "stdout",
     "output_type": "stream",
     "text": [
      "<class 'pandas.core.frame.DataFrame'>\n",
      "RangeIndex: 398 entries, 0 to 397\n",
      "Data columns (total 8 columns):\n",
      " #   Column        Non-Null Count  Dtype  \n",
      "---  ------        --------------  -----  \n",
      " 0   target        398 non-null    float64\n",
      " 1   Cylinders     398 non-null    int64  \n",
      " 2   Displacement  398 non-null    float64\n",
      " 3   Horsepower    392 non-null    float64\n",
      " 4   Weight        398 non-null    float64\n",
      " 5   Acceleration  398 non-null    float64\n",
      " 6   Model Year    398 non-null    int64  \n",
      " 7   Origin        398 non-null    int64  \n",
      "dtypes: float64(5), int64(3)\n",
      "memory usage: 25.0 KB\n"
     ]
    }
   ],
   "source": [
    "data.info()"
   ]
  },
  {
   "cell_type": "code",
   "execution_count": null,
   "metadata": {},
   "outputs": [],
   "source": [
    "#DATA AUGMENTATION WITH GAUSSIAN NOISE\n",
    "import numpy as np\n",
    "import pandas as pd\n",
    "\n",
    "def add_gaussian_noise(df, noise_level=0.01, random_state=42):\n",
    "    np.random.seed(random_state)\n",
    "    noisy_df = df.copy()\n",
    "    numeric_cols = noisy_df.select_dtypes(include=[np.number]).columns\n",
    "\n",
    "    for col in numeric_cols:\n",
    "        std = noisy_df[col].std()\n",
    "        noise = np.random.normal(0, noise_level * std, size=noisy_df.shape[0])\n",
    "        noisy_df[col] = noisy_df[col] + noise\n",
    "\n",
    "    return noisy_df\n"
   ]
  },
  {
   "cell_type": "code",
   "execution_count": null,
   "metadata": {},
   "outputs": [
    {
     "name": "stdout",
     "output_type": "stream",
     "text": [
      "Original: (398, 8)\n",
      "Augmented: (398, 8)\n",
      "Combined: (796, 8)\n"
     ]
    }
   ],
   "source": [
    "# Generate Augmented Data\n",
    "augmented_data = add_gaussian_noise(data, noise_level=0.02)\n",
    "\n",
    "# Combine Original + Augmented Datas \n",
    "combined_data = pd.concat([data, augmented_data], ignore_index=True)\n",
    "\n",
    "# Check the last version\n",
    "print(\"Original:\", data.shape)\n",
    "print(\"Augmented:\", augmented_data.shape)\n",
    "print(\"Combined:\", combined_data.shape)\n"
   ]
  },
  {
   "cell_type": "code",
   "execution_count": 14,
   "metadata": {},
   "outputs": [
    {
     "data": {
      "text/plain": [
       "target           0\n",
       "Cylinders        0\n",
       "Displacement     0\n",
       "Horsepower      12\n",
       "Weight           0\n",
       "Acceleration     0\n",
       "Model Year       0\n",
       "Origin           0\n",
       "dtype: int64"
      ]
     },
     "execution_count": 14,
     "metadata": {},
     "output_type": "execute_result"
    }
   ],
   "source": [
    "combined_data.isnull().sum()"
   ]
  },
  {
   "cell_type": "code",
   "execution_count": null,
   "metadata": {},
   "outputs": [],
   "source": []
  }
 ],
 "metadata": {
  "kernelspec": {
   "display_name": "Python 3 (ipykernel)",
   "language": "python",
   "name": "python3"
  },
  "language_info": {
   "codemirror_mode": {
    "name": "ipython",
    "version": 3
   },
   "file_extension": ".py",
   "mimetype": "text/x-python",
   "name": "python",
   "nbconvert_exporter": "python",
   "pygments_lexer": "ipython3",
   "version": "3.13.2"
  }
 },
 "nbformat": 4,
 "nbformat_minor": 4
}
